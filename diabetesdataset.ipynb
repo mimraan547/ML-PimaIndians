{
  "nbformat": 4,
  "nbformat_minor": 0,
  "metadata": {
    "kernelspec": {
      "display_name": "Python 3",
      "language": "python",
      "name": "python3"
    },
    "language_info": {
      "codemirror_mode": {
        "name": "ipython",
        "version": 3
      },
      "file_extension": ".py",
      "mimetype": "text/x-python",
      "name": "python",
      "nbconvert_exporter": "python",
      "pygments_lexer": "ipython3",
      "version": "3.7.7"
    },
    "colab": {
      "name": "diabetesdataset.ipynb",
      "provenance": [],
      "toc_visible": true,
      "include_colab_link": true
    }
  },
  "cells": [
    {
      "cell_type": "markdown",
      "metadata": {
        "id": "view-in-github",
        "colab_type": "text"
      },
      "source": [
        "<a href=\"https://colab.research.google.com/github/mimraan547/ML-PimaIndians/blob/main/diabetesdataset.ipynb\" target=\"_parent\"><img src=\"https://colab.research.google.com/assets/colab-badge.svg\" alt=\"Open In Colab\"/></a>"
      ]
    },
    {
      "cell_type": "markdown",
      "metadata": {
        "id": "A0VmKmiJKmVT"
      },
      "source": [
        "#Implementation of Neural Network in Pima Indians onset of diabetes"
      ]
    },
    {
      "cell_type": "markdown",
      "metadata": {
        "id": "SPT8y6HuLWZl"
      },
      "source": [
        "# Deep neural networks have been applied to fields such as computer vision, speech recognition, natural language processing, audio recognition, social network filtering, machine translation, and bioinformatics. \n",
        "# A neural network mimics a neuron, which has dendrites, a nucleus, axon, and terminal axon\n",
        "# Common hyperparameters : \n",
        "\n",
        "Number of hidden layers\n",
        "Choice of  activation function \n",
        "Epochs - how many times training should be repeated.\n",
        "Learning rate\n",
        "Gradient Descent\n",
        "Momentum\n",
        "# ================================\n",
        "# Neurons : Basic Unit of NN and generates a Prediction.\n",
        "1. Layers     : Input Layer, Output Layer, Hidden Layer\n",
        "2. Weights : Neural networks are trained by fine-tuning weights, to find the optimal set of weights that generates the most accurate prediction.\n",
        "3. Error : Defines how far the actual output of the current model is from the correct output. When training the model, the objective is to minimize the error function and bring output as close as possible to the correct value.\n",
        "4. Forward Pass :The forward pass takes the inputs, passes them through the network and allows each neuron to react to a fraction of the input.\n",
        "5. Backward pass :  To find the optimal weights for the neurons, we perform a backward pass, moving back from the network’s prediction to the neurons that generated that prediction. This is called Backpropagation.  \n",
        "\n",
        "\n"
      ]
    },
    {
      "cell_type": "code",
      "metadata": {
        "colab": {
          "base_uri": "https://localhost:8080/"
        },
        "id": "pIAcSBmwGbLD",
        "outputId": "fa75882a-e403-4b28-95cc-c3a7c301d83a"
      },
      "source": [
        "# Sample Multilayer Perceptron Neural Network in Keras\n",
        "from keras.models import Sequential\n",
        "from keras.layers import Dense\n",
        "from sklearn.metrics import confusion_matrix\n",
        "\n",
        "import numpy\n",
        "# load and prepare the dataset\n",
        "dataset = numpy.loadtxt(\"pima-indians-diabetes.csv\", delimiter=\",\")\n",
        "X = dataset[:,0:8]\n",
        "Y = dataset[:,8]\n",
        "# 1. define the network\n",
        "model = Sequential()\n",
        "model.add(Dense(12, input_dim=8, activation='relu'))\n",
        "model.add(Dense(1, activation='sigmoid'))\n",
        "# 2. compile the network\n",
        "model.compile(loss='binary_crossentropy', optimizer='adam', metrics=['accuracy'])\n",
        "# 3. fit the network\n",
        "history = model.fit(X, Y, epochs=100, batch_size=10)\n",
        "# 4. evaluate the network\n",
        "loss, accuracy = model.evaluate(X, Y)\n",
        "print(\"\\nLoss: %.2f, Accuracy: %.2f%%\" % (loss, accuracy*100))\n",
        "# 5. make predictions\n",
        "probabilities = model.predict(X)\n",
        "predictions = [float(numpy.round(x)) for x in probabilities]\n",
        "accuracy = numpy.mean(predictions == Y)\n",
        "print(\"Prediction Accuracy: %.2f%%\" % (accuracy*100))\n",
        "print (model.weights)\n"
      ],
      "execution_count": 1,
      "outputs": [
        {
          "output_type": "stream",
          "text": [
            "Epoch 1/100\n",
            "77/77 [==============================] - 15s 2ms/step - loss: 5.7265 - accuracy: 0.4326\n",
            "Epoch 2/100\n",
            "77/77 [==============================] - 0s 1ms/step - loss: 2.3703 - accuracy: 0.5440\n",
            "Epoch 3/100\n",
            "77/77 [==============================] - 0s 1ms/step - loss: 1.6472 - accuracy: 0.5860\n",
            "Epoch 4/100\n",
            "77/77 [==============================] - 0s 2ms/step - loss: 1.6232 - accuracy: 0.5838\n",
            "Epoch 5/100\n",
            "77/77 [==============================] - 0s 2ms/step - loss: 1.4098 - accuracy: 0.6147\n",
            "Epoch 6/100\n",
            "77/77 [==============================] - 0s 2ms/step - loss: 1.1120 - accuracy: 0.6329\n",
            "Epoch 7/100\n",
            "77/77 [==============================] - 0s 2ms/step - loss: 1.0770 - accuracy: 0.6769\n",
            "Epoch 8/100\n",
            "77/77 [==============================] - 0s 2ms/step - loss: 1.0434 - accuracy: 0.6214\n",
            "Epoch 9/100\n",
            "77/77 [==============================] - 0s 2ms/step - loss: 0.9254 - accuracy: 0.6466\n",
            "Epoch 10/100\n",
            "77/77 [==============================] - 0s 2ms/step - loss: 1.1713 - accuracy: 0.6000\n",
            "Epoch 11/100\n",
            "77/77 [==============================] - 0s 2ms/step - loss: 0.9834 - accuracy: 0.6307\n",
            "Epoch 12/100\n",
            "77/77 [==============================] - 0s 2ms/step - loss: 0.8850 - accuracy: 0.6453\n",
            "Epoch 13/100\n",
            "77/77 [==============================] - 0s 2ms/step - loss: 0.8216 - accuracy: 0.6577\n",
            "Epoch 14/100\n",
            "77/77 [==============================] - 0s 2ms/step - loss: 0.8265 - accuracy: 0.6674\n",
            "Epoch 15/100\n",
            "77/77 [==============================] - 0s 2ms/step - loss: 0.7351 - accuracy: 0.6731\n",
            "Epoch 16/100\n",
            "77/77 [==============================] - 0s 2ms/step - loss: 0.7718 - accuracy: 0.6593\n",
            "Epoch 17/100\n",
            "77/77 [==============================] - 0s 2ms/step - loss: 0.8095 - accuracy: 0.6356\n",
            "Epoch 18/100\n",
            "77/77 [==============================] - 0s 2ms/step - loss: 0.7633 - accuracy: 0.6599\n",
            "Epoch 19/100\n",
            "77/77 [==============================] - 0s 2ms/step - loss: 0.7499 - accuracy: 0.6684\n",
            "Epoch 20/100\n",
            "77/77 [==============================] - 0s 2ms/step - loss: 0.8105 - accuracy: 0.6512\n",
            "Epoch 21/100\n",
            "77/77 [==============================] - 0s 2ms/step - loss: 0.7048 - accuracy: 0.6798\n",
            "Epoch 22/100\n",
            "77/77 [==============================] - 0s 2ms/step - loss: 0.6398 - accuracy: 0.7147\n",
            "Epoch 23/100\n",
            "77/77 [==============================] - 0s 2ms/step - loss: 0.6862 - accuracy: 0.6699\n",
            "Epoch 24/100\n",
            "77/77 [==============================] - 0s 2ms/step - loss: 0.6522 - accuracy: 0.6882\n",
            "Epoch 25/100\n",
            "77/77 [==============================] - 0s 2ms/step - loss: 0.6341 - accuracy: 0.6995\n",
            "Epoch 26/100\n",
            "77/77 [==============================] - 0s 2ms/step - loss: 0.6277 - accuracy: 0.6896\n",
            "Epoch 27/100\n",
            "77/77 [==============================] - 0s 2ms/step - loss: 0.6538 - accuracy: 0.6953\n",
            "Epoch 28/100\n",
            "77/77 [==============================] - 0s 2ms/step - loss: 0.6294 - accuracy: 0.7053\n",
            "Epoch 29/100\n",
            "77/77 [==============================] - 0s 2ms/step - loss: 0.6906 - accuracy: 0.6889\n",
            "Epoch 30/100\n",
            "77/77 [==============================] - 0s 2ms/step - loss: 0.6418 - accuracy: 0.6809\n",
            "Epoch 31/100\n",
            "77/77 [==============================] - 0s 2ms/step - loss: 0.6289 - accuracy: 0.7259\n",
            "Epoch 32/100\n",
            "77/77 [==============================] - 0s 2ms/step - loss: 0.6411 - accuracy: 0.7167\n",
            "Epoch 33/100\n",
            "77/77 [==============================] - 0s 2ms/step - loss: 0.6843 - accuracy: 0.6782\n",
            "Epoch 34/100\n",
            "77/77 [==============================] - 0s 2ms/step - loss: 0.6406 - accuracy: 0.6921\n",
            "Epoch 35/100\n",
            "77/77 [==============================] - 0s 2ms/step - loss: 0.6100 - accuracy: 0.7125\n",
            "Epoch 36/100\n",
            "77/77 [==============================] - 0s 2ms/step - loss: 0.6538 - accuracy: 0.6999\n",
            "Epoch 37/100\n",
            "77/77 [==============================] - 0s 2ms/step - loss: 0.6584 - accuracy: 0.6751\n",
            "Epoch 38/100\n",
            "77/77 [==============================] - 0s 2ms/step - loss: 0.6018 - accuracy: 0.7047\n",
            "Epoch 39/100\n",
            "77/77 [==============================] - 0s 2ms/step - loss: 0.5839 - accuracy: 0.7148\n",
            "Epoch 40/100\n",
            "77/77 [==============================] - 0s 2ms/step - loss: 0.5750 - accuracy: 0.7260\n",
            "Epoch 41/100\n",
            "77/77 [==============================] - 0s 2ms/step - loss: 0.6141 - accuracy: 0.6925\n",
            "Epoch 42/100\n",
            "77/77 [==============================] - 0s 2ms/step - loss: 0.6610 - accuracy: 0.6625\n",
            "Epoch 43/100\n",
            "77/77 [==============================] - 0s 2ms/step - loss: 0.5339 - accuracy: 0.7344\n",
            "Epoch 44/100\n",
            "77/77 [==============================] - 0s 2ms/step - loss: 0.6012 - accuracy: 0.7157\n",
            "Epoch 45/100\n",
            "77/77 [==============================] - 0s 2ms/step - loss: 0.5606 - accuracy: 0.7411\n",
            "Epoch 46/100\n",
            "77/77 [==============================] - 0s 2ms/step - loss: 0.6262 - accuracy: 0.6954\n",
            "Epoch 47/100\n",
            "77/77 [==============================] - 0s 2ms/step - loss: 0.5894 - accuracy: 0.7113\n",
            "Epoch 48/100\n",
            "77/77 [==============================] - 0s 2ms/step - loss: 0.6233 - accuracy: 0.7287\n",
            "Epoch 49/100\n",
            "77/77 [==============================] - 0s 2ms/step - loss: 0.5882 - accuracy: 0.7154\n",
            "Epoch 50/100\n",
            "77/77 [==============================] - 0s 2ms/step - loss: 0.5548 - accuracy: 0.7210\n",
            "Epoch 51/100\n",
            "77/77 [==============================] - 0s 2ms/step - loss: 0.6030 - accuracy: 0.7218\n",
            "Epoch 52/100\n",
            "77/77 [==============================] - 0s 2ms/step - loss: 0.5943 - accuracy: 0.7140\n",
            "Epoch 53/100\n",
            "77/77 [==============================] - 0s 2ms/step - loss: 0.5938 - accuracy: 0.7138\n",
            "Epoch 54/100\n",
            "77/77 [==============================] - 0s 2ms/step - loss: 0.5438 - accuracy: 0.7358\n",
            "Epoch 55/100\n",
            "77/77 [==============================] - 0s 2ms/step - loss: 0.6548 - accuracy: 0.7079\n",
            "Epoch 56/100\n",
            "77/77 [==============================] - 0s 2ms/step - loss: 0.5732 - accuracy: 0.7192\n",
            "Epoch 57/100\n",
            "77/77 [==============================] - 0s 2ms/step - loss: 0.5643 - accuracy: 0.7130\n",
            "Epoch 58/100\n",
            "77/77 [==============================] - 0s 2ms/step - loss: 0.5812 - accuracy: 0.6985\n",
            "Epoch 59/100\n",
            "77/77 [==============================] - 0s 2ms/step - loss: 0.5895 - accuracy: 0.7039\n",
            "Epoch 60/100\n",
            "77/77 [==============================] - 0s 2ms/step - loss: 0.5801 - accuracy: 0.7118\n",
            "Epoch 61/100\n",
            "77/77 [==============================] - 0s 2ms/step - loss: 0.5808 - accuracy: 0.6948\n",
            "Epoch 62/100\n",
            "77/77 [==============================] - 0s 2ms/step - loss: 0.5568 - accuracy: 0.7158\n",
            "Epoch 63/100\n",
            "77/77 [==============================] - 0s 2ms/step - loss: 0.5946 - accuracy: 0.6815\n",
            "Epoch 64/100\n",
            "77/77 [==============================] - 0s 2ms/step - loss: 0.5499 - accuracy: 0.7442\n",
            "Epoch 65/100\n",
            "77/77 [==============================] - 0s 2ms/step - loss: 0.5737 - accuracy: 0.7309\n",
            "Epoch 66/100\n",
            "77/77 [==============================] - 0s 2ms/step - loss: 0.5270 - accuracy: 0.7486\n",
            "Epoch 67/100\n",
            "77/77 [==============================] - 0s 2ms/step - loss: 0.5852 - accuracy: 0.7036\n",
            "Epoch 68/100\n",
            "77/77 [==============================] - 0s 2ms/step - loss: 0.5391 - accuracy: 0.7417\n",
            "Epoch 69/100\n",
            "77/77 [==============================] - 0s 2ms/step - loss: 0.5447 - accuracy: 0.7452\n",
            "Epoch 70/100\n",
            "77/77 [==============================] - 0s 2ms/step - loss: 0.5492 - accuracy: 0.7370\n",
            "Epoch 71/100\n",
            "77/77 [==============================] - 0s 2ms/step - loss: 0.5370 - accuracy: 0.7608\n",
            "Epoch 72/100\n",
            "77/77 [==============================] - 0s 1ms/step - loss: 0.5686 - accuracy: 0.7421\n",
            "Epoch 73/100\n",
            "77/77 [==============================] - 0s 2ms/step - loss: 0.5352 - accuracy: 0.7263\n",
            "Epoch 74/100\n",
            "77/77 [==============================] - 0s 2ms/step - loss: 0.6393 - accuracy: 0.7179\n",
            "Epoch 75/100\n",
            "77/77 [==============================] - 0s 2ms/step - loss: 0.5838 - accuracy: 0.7200\n",
            "Epoch 76/100\n",
            "77/77 [==============================] - 0s 2ms/step - loss: 0.5943 - accuracy: 0.6985\n",
            "Epoch 77/100\n",
            "77/77 [==============================] - 0s 2ms/step - loss: 0.5298 - accuracy: 0.7680\n",
            "Epoch 78/100\n",
            "77/77 [==============================] - 0s 2ms/step - loss: 0.5434 - accuracy: 0.7298\n",
            "Epoch 79/100\n",
            "77/77 [==============================] - 0s 2ms/step - loss: 0.5248 - accuracy: 0.7358\n",
            "Epoch 80/100\n",
            "77/77 [==============================] - 0s 2ms/step - loss: 0.5135 - accuracy: 0.7550\n",
            "Epoch 81/100\n",
            "77/77 [==============================] - 0s 2ms/step - loss: 0.5133 - accuracy: 0.7616\n",
            "Epoch 82/100\n",
            "77/77 [==============================] - 0s 2ms/step - loss: 0.5802 - accuracy: 0.7194\n",
            "Epoch 83/100\n",
            "77/77 [==============================] - 0s 2ms/step - loss: 0.5366 - accuracy: 0.7246\n",
            "Epoch 84/100\n",
            "77/77 [==============================] - 0s 2ms/step - loss: 0.5742 - accuracy: 0.7351\n",
            "Epoch 85/100\n",
            "77/77 [==============================] - 0s 2ms/step - loss: 0.5633 - accuracy: 0.7238\n",
            "Epoch 86/100\n",
            "77/77 [==============================] - 0s 2ms/step - loss: 0.5434 - accuracy: 0.7533\n",
            "Epoch 87/100\n",
            "77/77 [==============================] - 0s 2ms/step - loss: 0.5331 - accuracy: 0.7286\n",
            "Epoch 88/100\n",
            "77/77 [==============================] - 0s 2ms/step - loss: 0.5441 - accuracy: 0.7362\n",
            "Epoch 89/100\n",
            "77/77 [==============================] - 0s 2ms/step - loss: 0.5333 - accuracy: 0.7466\n",
            "Epoch 90/100\n",
            "77/77 [==============================] - 0s 2ms/step - loss: 0.5797 - accuracy: 0.6805\n",
            "Epoch 91/100\n",
            "77/77 [==============================] - 0s 2ms/step - loss: 0.5332 - accuracy: 0.7273\n",
            "Epoch 92/100\n",
            "77/77 [==============================] - 0s 2ms/step - loss: 0.5115 - accuracy: 0.7609\n",
            "Epoch 93/100\n",
            "77/77 [==============================] - 0s 2ms/step - loss: 0.5661 - accuracy: 0.7318\n",
            "Epoch 94/100\n",
            "77/77 [==============================] - 0s 2ms/step - loss: 0.5788 - accuracy: 0.7016\n",
            "Epoch 95/100\n",
            "77/77 [==============================] - 0s 2ms/step - loss: 0.5359 - accuracy: 0.7487\n",
            "Epoch 96/100\n",
            "77/77 [==============================] - 0s 2ms/step - loss: 0.5668 - accuracy: 0.7256\n",
            "Epoch 97/100\n",
            "77/77 [==============================] - 0s 2ms/step - loss: 0.5508 - accuracy: 0.7105\n",
            "Epoch 98/100\n",
            "77/77 [==============================] - 0s 2ms/step - loss: 0.5412 - accuracy: 0.7252\n",
            "Epoch 99/100\n",
            "77/77 [==============================] - 0s 2ms/step - loss: 0.5391 - accuracy: 0.7559\n",
            "Epoch 100/100\n",
            "77/77 [==============================] - 0s 2ms/step - loss: 0.5364 - accuracy: 0.7467\n",
            "24/24 [==============================] - 0s 2ms/step - loss: 0.5188 - accuracy: 0.7461\n",
            "\n",
            "Loss: 0.52, Accuracy: 74.61%\n",
            "Prediction Accuracy: 74.61%\n",
            "[<tf.Variable 'dense/kernel:0' shape=(8, 12) dtype=float32, numpy=\n",
            "array([[ 0.04918998, -0.1613733 ,  0.18530896, -0.12435035, -0.12125786,\n",
            "        -0.45392868, -0.10437962, -0.65508574,  0.5583514 , -0.1625951 ,\n",
            "        -0.09025389, -0.34366795],\n",
            "       [-0.21776082, -0.22067562,  0.385461  , -0.44880542, -0.2180349 ,\n",
            "        -0.50140995,  0.45353162,  0.01841003,  0.14080851, -0.29208344,\n",
            "        -0.07518796, -0.5606328 ],\n",
            "       [ 0.2690528 ,  0.06321826, -0.28547624,  0.02066332, -0.1012206 ,\n",
            "        -0.25292775, -0.40582263, -0.55760795, -0.42321774, -0.44837832,\n",
            "         0.32006845, -0.35474506],\n",
            "       [-0.02009881,  0.01952122,  0.3106808 ,  0.05398054,  0.05355319,\n",
            "         0.28489524,  0.4622212 , -0.37039083, -0.21676274,  0.1378684 ,\n",
            "         0.05448622, -0.15317783],\n",
            "       [-0.00099177,  0.39169264, -0.03362735,  0.2710219 ,  0.5342247 ,\n",
            "         0.00772607, -0.30436522,  0.3740072 , -0.09921247, -0.03840268,\n",
            "         0.19033085,  0.17039722],\n",
            "       [ 0.01945748,  0.20540512,  0.10492086, -0.41916543,  0.6016571 ,\n",
            "        -0.04240739,  0.39318955, -0.38771448, -0.38581493, -0.27767247,\n",
            "        -0.35226575,  0.11504493],\n",
            "       [ 0.83179396,  0.11873054,  0.36893645, -0.31166917, -0.13926013,\n",
            "        -0.5161667 , -0.5370752 ,  0.42122984,  0.01647871,  0.49549425,\n",
            "        -0.02222532,  0.21156012],\n",
            "       [ 0.37332016,  0.08661303, -0.01232116,  0.14276744,  0.06414956,\n",
            "        -0.1834073 ,  0.39489472,  0.33777168, -0.19495657,  0.33861387,\n",
            "        -0.0787637 ,  0.29016894]], dtype=float32)>, <tf.Variable 'dense/bias:0' shape=(12,) dtype=float32, numpy=\n",
            "array([-0.79143786, -0.83986306, -0.81596637, -0.29604846,  0.86994773,\n",
            "        0.        ,  1.034708  ,  0.46514735,  0.43198746,  0.        ,\n",
            "        0.90611464, -0.10409462], dtype=float32)>, <tf.Variable 'dense_1/kernel:0' shape=(12, 1) dtype=float32, numpy=\n",
            "array([[ 0.23925783],\n",
            "       [ 0.37863365],\n",
            "       [ 0.46317807],\n",
            "       [ 0.28395897],\n",
            "       [-0.23737492],\n",
            "       [ 0.12381011],\n",
            "       [-0.26310518],\n",
            "       [-0.03656687],\n",
            "       [-0.26026407],\n",
            "       [ 0.4146608 ],\n",
            "       [-0.3584459 ],\n",
            "       [ 0.52189493]], dtype=float32)>, <tf.Variable 'dense_1/bias:0' shape=(1,) dtype=float32, numpy=array([-1.0015503], dtype=float32)>]\n"
          ],
          "name": "stdout"
        }
      ]
    },
    {
      "cell_type": "markdown",
      "metadata": {
        "id": "samhxET6PWJ_"
      },
      "source": [
        "# This example will use the Pima Indians onset of diabetes binary classification problem.\n",
        "About Dataset\n",
        "Number of Instances: 768 \n",
        " Number of Attributes: 8 plus class variable\n",
        "For Each Attribute: (all numeric-valued) \n",
        "1. Number of times pregnant \n",
        "2. Plasma glucose concentration a 2 hours in an oral glucose tolerance test \n",
        "3. Diastolic blood pressure (mm Hg) \n",
        "4. Triceps skin fold thickness (mm) \n",
        "5. 2-Hour serum insulin (mu U/ml)\n",
        "6. Body mass index (weight in kg/(height in m)^2)\n",
        "7. Diabetes pedigree function \n",
        "8. Age (years) \n",
        "9. Class variable (0 or 1)\n"
      ]
    },
    {
      "cell_type": "code",
      "metadata": {
        "colab": {
          "base_uri": "https://localhost:8080/"
        },
        "id": "hh6nhgQ2GbLZ",
        "outputId": "9de8a20d-3e4f-421a-b1c8-91aba87682f1"
      },
      "source": [
        "from sklearn.metrics import confusion_matrix\n",
        "cm = confusion_matrix(Y,predictions)\n",
        "print (cm)\n",
        "\n",
        "len(X)\n"
      ],
      "execution_count": 2,
      "outputs": [
        {
          "output_type": "stream",
          "text": [
            "[[393 107]\n",
            " [ 88 180]]\n"
          ],
          "name": "stdout"
        },
        {
          "output_type": "execute_result",
          "data": {
            "text/plain": [
              "768"
            ]
          },
          "metadata": {
            "tags": []
          },
          "execution_count": 2
        }
      ]
    },
    {
      "cell_type": "code",
      "metadata": {
        "colab": {
          "base_uri": "https://localhost:8080/"
        },
        "id": "DKoBdZ9mGbLd",
        "outputId": "8a709baf-45b2-4b01-c5d8-b91d724315b0"
      },
      "source": [
        "print(X.shape)"
      ],
      "execution_count": 3,
      "outputs": [
        {
          "output_type": "stream",
          "text": [
            "(768, 8)\n"
          ],
          "name": "stdout"
        }
      ]
    },
    {
      "cell_type": "code",
      "metadata": {
        "colab": {
          "base_uri": "https://localhost:8080/"
        },
        "id": "EHgnKwI5GbLf",
        "outputId": "53c2f89f-2a14-4c61-cd35-750fe31ff6f8"
      },
      "source": [
        "print(Y.shape)"
      ],
      "execution_count": 4,
      "outputs": [
        {
          "output_type": "stream",
          "text": [
            "(768,)\n"
          ],
          "name": "stdout"
        }
      ]
    },
    {
      "cell_type": "code",
      "metadata": {
        "colab": {
          "base_uri": "https://localhost:8080/"
        },
        "id": "Hfj4CKC4GbLj",
        "outputId": "efa2224a-1cc1-4593-d461-44c60091f8cf"
      },
      "source": [
        "print(probabilities.shape)"
      ],
      "execution_count": 5,
      "outputs": [
        {
          "output_type": "stream",
          "text": [
            "(768, 1)\n"
          ],
          "name": "stdout"
        }
      ]
    },
    {
      "cell_type": "code",
      "metadata": {
        "colab": {
          "base_uri": "https://localhost:8080/"
        },
        "id": "c70CNqMRGbLl",
        "outputId": "473d09fd-4b04-479c-9308-653e9d3f7803"
      },
      "source": [
        "model.summary()"
      ],
      "execution_count": 6,
      "outputs": [
        {
          "output_type": "stream",
          "text": [
            "Model: \"sequential\"\n",
            "_________________________________________________________________\n",
            "Layer (type)                 Output Shape              Param #   \n",
            "=================================================================\n",
            "dense (Dense)                (None, 12)                108       \n",
            "_________________________________________________________________\n",
            "dense_1 (Dense)              (None, 1)                 13        \n",
            "=================================================================\n",
            "Total params: 121\n",
            "Trainable params: 121\n",
            "Non-trainable params: 0\n",
            "_________________________________________________________________\n"
          ],
          "name": "stdout"
        }
      ]
    },
    {
      "cell_type": "code",
      "metadata": {
        "id": "mXwjXqw5GbLr"
      },
      "source": [
        ""
      ],
      "execution_count": null,
      "outputs": []
    },
    {
      "cell_type": "markdown",
      "metadata": {
        "id": "XyQhirlnMZjP"
      },
      "source": [
        "# Training :\n",
        "The actual dataset that we use to train the model (weights and biases in the case of a Neural Network). \n",
        "The model sees and learns from this data.\n",
        "Testing :\n",
        "The Test dataset used to evaluate the model. \n",
        "It is only used once a model is completely trained.\n",
        "\n",
        "Note :\n",
        "Ratio : 3:1 ratio\n",
        "Sometimes100% for training and same100% for testing without giving the class labels.\n",
        "# Keras is a powerful easy-to-use Python library for developing and evaluating deep learning models.\n",
        "It has a minimalist design that allows us to build a net layer by layer; train it, and run it.\n",
        "It wraps the efficient numerical computation library TensorFlow and allows us to define and train neural network models in a few short lines of code.\n",
        "=============================================\n",
        "# Overview of the 5 steps in the neural network model life-cycle in Keras\n",
        "Define Network.\n",
        "Compile Network.\n",
        "Fit Network.\n",
        "Evaluate Network.\n",
        "Make Predictions.\n",
        "# Step 1: Define a Network\n",
        "Neural networks are defined in Keras as a sequence of layers. The container for these layers is the Sequential class.\n",
        "The first step is to create an instance of the Sequential class. \n",
        "Then you can create your layers and add them in the order that they should be connected.\n",
        "\n",
        "Example : \n",
        " A small Multilayer Perceptron model with 2 inputs in the visible layer, 5 neurons in the hidden layer and one neuron in the output layer\n",
        "Code: \n",
        "model = Sequential()\n",
        "model.add(Dense(5, input_dim=2))\n",
        "model.add(Dense(1))\n",
        "==================================\n",
        "Adding Activation Functions in each layer\n",
        "\n",
        "The choice of activation function is most important for the output layer as it will define the format that predictions will take.\n",
        "Regression: Linear activation function or ‘linear’ and the number of neurons matching the number of outputs.\n",
        "Binary Classification (2 class): Logistic activation function or ‘sigmoid’ and one neuron the output layer.\n",
        "Multiclass Classification (>2 class): Softmax activation function or ‘softmax’ and one output neuron per class value, assuming a one-hot encoded output pattern.\n",
        "    Code :\n",
        "\n",
        "model = Sequential()\n",
        "model.add(Dense(5, input_dim=2))\n",
        "model.add(Activation('relu'))\n",
        "model.add(Dense(1))\n",
        "model.add(Activation('sigmoid'))\n",
        "\n",
        "=====================================\n",
        "\u000bStep 2. Compile Network\u000b\n",
        "Compilation is an efficiency step to be executed on GPU or CPU.\n",
        "Compilation requires a number of parameters to be specified specifically the optimization algorithm to use to train the network and the loss function used to evaluate the network that is minimized by the optimization algorithm.\n",
        "stochastic gradient descent (sgd) optimization algorithm and the mean squared error (mse) loss function\n",
        "For example, below are some standard loss functions for different predictive model types:\n",
        "Regression: Mean Squared Error or ‘mse‘.\n",
        "Binary Classification (2 class): Logarithmic Loss, also called cross entropy or ‘binary_crossentropy‘.\n",
        "Multiclass Classification (>2 class): Multiclass Logarithmic Loss or ‘categorical_crossentropy‘.\n",
        "      Code :\n",
        "\n",
        "model.compile(optimizer='sgd', loss='mse', metrics=['accuracy'])\n",
        "========================================\n",
        "Step 3. Fit Network\n",
        "\n",
        "Once the network is compiled, it can be fit, which means adapt the weights on a training dataset.\n",
        "The network is trained using the backpropagation algorithm and optimized according to the optimization algorithm and loss function specified when compiling the model.\n",
        "Fitting the network requires the training data to be specified, both a matrix of input patterns X and an array of matching output patterns y.\n",
        "Each epoch can be partitioned into groups of input-output pattern pairs called batches.\n",
        "\n",
        "                Code : \n",
        "history = model.fit(X, y, batch_size=10, epochs=100)\n",
        "=========================================\n",
        "Step 4. Evaluate Network\n",
        "\n",
        "The network can be evaluated on the training data.\n",
        " List of evaluation metrics is returned during evaluation (Ex : )Loss, Accuracy\n",
        "     \n",
        "     Code :\n",
        "history = model.fit(X, y, batch_size=10, epochs=100)\n",
        "===========================================\n",
        "Step 5. Make Predictions\n",
        "\n",
        "It shows the performance of our fit model from the predictions on new data.\n",
        "In the case of a regression problem, these predictions may be in the format of the problem directly, provided by a linear activation function.\n",
        "For a binary classification problem, the predictions may be an array of probabilities for the first class that can be converted to a 1 or 0 by rounding.\n",
        "For a multiclass classification problem, the results may be in the form of an array of probabilities (assuming a one hot encoded output variable) that may need to be converted to a single class output prediction using the argmax function.\n",
        "        \n",
        "      Code :\n",
        "predictions = model.predict(x)\n",
        "===============================================\n",
        "\n",
        "\n",
        "\n"
      ]
    }
  ]
}